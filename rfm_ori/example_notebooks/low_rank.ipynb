{
 "cells": [
  {
   "cell_type": "code",
   "execution_count": 2,
   "id": "778ae8ab",
   "metadata": {},
   "outputs": [],
   "source": [
    "import numpy as np"
   ]
  },
  {
   "cell_type": "code",
   "execution_count": 209,
   "id": "ecb446f8",
   "metadata": {},
   "outputs": [],
   "source": [
    "# define target function\n",
    "def fstar(X):\n",
    "    return (X[:, 0] * X[:, 1] * (X[:, 5] > 0))[:,None]"
   ]
  },
  {
   "cell_type": "code",
   "execution_count": 190,
   "id": "777dbd11",
   "metadata": {},
   "outputs": [
    {
     "name": "stdout",
     "output_type": "stream",
     "text": [
      "(4000, 20) (4000, 20) (4000, 1) (4000, 1)\n"
     ]
    }
   ],
   "source": [
    "# create low rank data\n",
    "n = 4000\n",
    "d = 20\n",
    "X_train = np.random.normal(scale=0.5, size=(n,d))\n",
    "X_test = np.random.normal(scale=0.5, size=(n,d))\n",
    "\n",
    "y_train = fstar(X_train)\n",
    "y_test = fstar(X_test)\n",
    "\n",
    "print(X_train.shape, X_test.shape, y_train.shape, y_test.shape)"
   ]
  },
  {
   "cell_type": "code",
   "execution_count": 191,
   "id": "5e7f0612",
   "metadata": {},
   "outputs": [],
   "source": [
    "# rfm import \n",
    "from rfm import *"
   ]
  },
  {
   "cell_type": "code",
   "execution_count": 208,
   "id": "5218e22f",
   "metadata": {},
   "outputs": [
    {
     "name": "stdout",
     "output_type": "stream",
     "text": [
      "Round 0 MSE:  0.012285300456919881\n"
     ]
    },
    {
     "name": "stderr",
     "output_type": "stream",
     "text": [
      "100%|████████████████████████████████████| 2000/2000 [00:00<00:00, 20900.93it/s]\n"
     ]
    },
    {
     "name": "stdout",
     "output_type": "stream",
     "text": [
      "Round 1 MSE:  0.0062959697378696155\n"
     ]
    },
    {
     "name": "stderr",
     "output_type": "stream",
     "text": [
      "100%|████████████████████████████████████| 2000/2000 [00:00<00:00, 15809.90it/s]\n"
     ]
    },
    {
     "name": "stdout",
     "output_type": "stream",
     "text": [
      "Round 2 MSE:  0.0031742021213519555\n"
     ]
    },
    {
     "name": "stderr",
     "output_type": "stream",
     "text": [
      "100%|████████████████████████████████████| 2000/2000 [00:00<00:00, 20743.75it/s]\n"
     ]
    },
    {
     "name": "stdout",
     "output_type": "stream",
     "text": [
      "Round 3 MSE:  0.002353062806520424\n"
     ]
    },
    {
     "name": "stderr",
     "output_type": "stream",
     "text": [
      "100%|████████████████████████████████████| 2000/2000 [00:00<00:00, 14508.07it/s]\n"
     ]
    },
    {
     "name": "stdout",
     "output_type": "stream",
     "text": [
      "Round 4 MSE:  0.002091271265803217\n"
     ]
    },
    {
     "name": "stderr",
     "output_type": "stream",
     "text": [
      "100%|████████████████████████████████████| 2000/2000 [00:00<00:00, 16036.43it/s]\n"
     ]
    },
    {
     "name": "stdout",
     "output_type": "stream",
     "text": [
      "Final MSE:  0.0019972160888129423\n"
     ]
    }
   ],
   "source": [
    "# run rfm\n",
    "M, _ = rfm((X_train,y_train),(X_test,y_test), iters=5, loader=False, classif=False)"
   ]
  },
  {
   "cell_type": "markdown",
   "id": "ae02aed4",
   "metadata": {},
   "source": [
    "We have run five steps of RFM, returning the M matrix"
   ]
  },
  {
   "cell_type": "code",
   "execution_count": 201,
   "id": "7a730cd9",
   "metadata": {},
   "outputs": [],
   "source": [
    "# visualize M matrix\n",
    "import matplotlib.pyplot as plt\n",
    "%matplotlib inline"
   ]
  },
  {
   "cell_type": "code",
   "execution_count": 207,
   "id": "66b0f905",
   "metadata": {},
   "outputs": [
    {
     "data": {
      "image/png": "[encoded data removed]",
      "text/plain": [
       "<Figure size 640x480 with 2 Axes>"
      ]
     },
     "metadata": {},
     "output_type": "display_data"
    }
   ],
   "source": [
    "plt.imshow(M)\n",
    "colorbar = plt.colorbar()"
   ]
  },
  {
   "cell_type": "markdown",
   "id": "1b8bb8a2",
   "metadata": {},
   "source": [
    "Recall that the M matrix is used to transform the data before applying the outer (laplace) kernel. When only the first, second, and fifth coordinates are relevant to the target function, the M matrix selects these coordinates."
   ]
  },
  {
   "cell_type": "code",
   "execution_count": null,
   "id": "e6b5d248",
   "metadata": {},
   "outputs": [],
   "source": []
  }
 ],
 "metadata": {
  "kernelspec": {
   "display_name": "Python 3 (ipykernel)",
   "language": "python",
   "name": "python3"
  },
  "language_info": {
   "codemirror_mode": {
    "name": "ipython",
    "version": 3
   },
   "file_extension": ".py",
   "mimetype": "text/x-python",
   "name": "python",
   "nbconvert_exporter": "python",
   "pygments_lexer": "ipython3",
   "version": "3.10.8"
  }
 },
 "nbformat": 4,
 "nbformat_minor": 5
}
