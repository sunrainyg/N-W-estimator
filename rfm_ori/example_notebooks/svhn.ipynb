{
 "cells": [
  {
   "cell_type": "code",
   "execution_count": 14,
   "id": "d0380a2f",
   "metadata": {},
   "outputs": [
    {
     "name": "stdout",
     "output_type": "stream",
     "text": [
      "The autoreload extension is already loaded. To reload it, use:\n",
      "  %reload_ext autoreload\n"
     ]
    }
   ],
   "source": [
    "%load_ext autoreload\n",
    "%autoreload 2"
   ]
  },
  {
   "cell_type": "code",
   "execution_count": 72,
   "id": "778ae8ab",
   "metadata": {},
   "outputs": [],
   "source": [
    "import numpy as np\n",
    "import torch\n",
    "import torchvision\n",
    "import torchvision.transforms as transforms"
   ]
  },
  {
   "cell_type": "code",
   "execution_count": 73,
   "id": "3d805a7b",
   "metadata": {},
   "outputs": [],
   "source": [
    "# set data path\n",
    "def set_data_path():\n",
    "    return \"../data/\"\n",
    "#     raise NotImplementedError"
   ]
  },
  {
   "cell_type": "code",
   "execution_count": 74,
   "id": "9169089d",
   "metadata": {},
   "outputs": [],
   "source": [
    "def pre_process(torchset,n_samples,num_classes=10):\n",
    "    indices = list(np.random.choice(len(torchset),n_samples))\n",
    "\n",
    "    trainset = []\n",
    "    for ix in indices:\n",
    "        x,y = torchset[ix]\n",
    "        ohe_y = torch.zeros(num_classes)\n",
    "        ohe_y[y] = 1\n",
    "        trainset.append(((x/np.linalg.norm(x)).reshape(-1),ohe_y))\n",
    "    return trainset"
   ]
  },
  {
   "cell_type": "code",
   "execution_count": 84,
   "id": "777dbd11",
   "metadata": {},
   "outputs": [
    {
     "name": "stdout",
     "output_type": "stream",
     "text": [
      "Using downloaded and verified file: ../data/train_32x32.mat\n",
      "Using downloaded and verified file: ../data/test_32x32.mat\n"
     ]
    }
   ],
   "source": [
    "# load svhn data\n",
    "transform = transforms.Compose([\n",
    "    transforms.ToTensor()\n",
    "])\n",
    "\n",
    "data_path = set_data_path() ## set this data path\n",
    "\n",
    "trainset0 = torchvision.datasets.SVHN(root=data_path,\n",
    "                                    split = \"train\",\n",
    "                                    transform=transform,\n",
    "                                    download=True)\n",
    "testset0 = torchvision.datasets.SVHN(root=data_path,\n",
    "                                    split = \"test\",\n",
    "                                    transform=transform,\n",
    "                                    download=True)\n",
    "\n",
    "trainset = pre_process(trainset0,n_samples=5000, num_classes=10)\n",
    "train_loader = torch.utils.data.DataLoader(trainset, batch_size=128,\n",
    "                                          shuffle=True, num_workers=2)\n",
    "\n",
    "\n",
    "testset = pre_process(testset0,n_samples=5000, num_classes=10)\n",
    "test_loader = torch.utils.data.DataLoader(testset, batch_size=128,\n",
    "                                         shuffle=False, num_workers=2)\n",
    "\n"
   ]
  },
  {
   "cell_type": "code",
   "execution_count": 85,
   "id": "5e7f0612",
   "metadata": {},
   "outputs": [],
   "source": [
    "# rfm import \n",
    "from rfm import *"
   ]
  },
  {
   "cell_type": "code",
   "execution_count": 86,
   "id": "5218e22f",
   "metadata": {},
   "outputs": [
    {
     "name": "stdout",
     "output_type": "stream",
     "text": [
      "Loaders provided\n",
      "Round 0 MSE:  0.05582288420917185\n",
      "Round 0 Acc:  0.6542\n"
     ]
    },
    {
     "name": "stderr",
     "output_type": "stream",
     "text": [
      "100%|███████████████████████████████████████| 2500/2500 [00:50<00:00, 49.26it/s]\n"
     ]
    },
    {
     "name": "stdout",
     "output_type": "stream",
     "text": [
      "Round 1 MSE:  0.048552343881175526\n",
      "Round 1 Acc:  0.693\n"
     ]
    },
    {
     "name": "stderr",
     "output_type": "stream",
     "text": [
      "100%|███████████████████████████████████████| 2500/2500 [00:36<00:00, 69.14it/s]\n"
     ]
    },
    {
     "name": "stdout",
     "output_type": "stream",
     "text": [
      "Final MSE:  0.047642564293349135\n",
      " Final Acc:  0.6844\n"
     ]
    }
   ],
   "source": [
    "# run rfm\n",
    "M, _ = rfm(train_loader, test_loader, iters=2, loader=True, classif=True)"
   ]
  },
  {
   "cell_type": "markdown",
   "id": "ae02aed4",
   "metadata": {},
   "source": [
    "We have run three steps of RFM (the first iterate is the original laplace kernel), returning the M matrix of the final iterate."
   ]
  },
  {
   "cell_type": "code",
   "execution_count": 87,
   "id": "7a730cd9",
   "metadata": {},
   "outputs": [],
   "source": [
    "# visualize M matrix\n",
    "import matplotlib.pyplot as plt\n",
    "%matplotlib inline"
   ]
  },
  {
   "cell_type": "code",
   "execution_count": 144,
   "id": "66b0f905",
   "metadata": {},
   "outputs": [
    {
     "name": "stdout",
     "output_type": "stream",
     "text": [
      "\n"
     ]
    },
    {
     "data": {
      "image/png": "[encoded data removed]",
      "text/plain": [
       "<Figure size 1000x300 with 3 Axes>"
      ]
     },
     "metadata": {},
     "output_type": "display_data"
    }
   ],
   "source": [
    "f, axarr = plt.subplots(1,2,figsize=(10, 3))\n",
    "axarr[0].axes.xaxis.set_ticklabels([])\n",
    "axarr[0].axes.yaxis.set_ticklabels([])\n",
    "axarr[1].axes.xaxis.set_ticklabels([])\n",
    "axarr[1].axes.yaxis.set_ticklabels([])\n",
    "\n",
    "pcm = axarr[0].imshow(np.mean(np.diag(M).reshape(3,32,32),axis=0),cmap='cividis')\n",
    "axarr[0].set_title(\"M matrix diagonal\")\n",
    "f.colorbar(mappable=pcm, ax=axarr[0], shrink=0.8,location=\"left\")\n",
    "axarr[1].imshow(torch.moveaxis(trainset0[3][0],0,2))\n",
    "axarr[1].set_title(\"Sample Image\")\n",
    "print()"
   ]
  },
  {
   "cell_type": "markdown",
   "id": "1b8bb8a2",
   "metadata": {},
   "source": [
    "Here we plot the diagonal (averaged across channels) of the M matrix to see which coordinates are being highlighted by RFM. The center of the image is highlighted (where the digits appear). "
   ]
  },
  {
   "cell_type": "code",
   "execution_count": null,
   "id": "451d553b",
   "metadata": {},
   "outputs": [],
   "source": []
  }
 ],
 "metadata": {
  "kernelspec": {
   "display_name": "Python 3 (ipykernel)",
   "language": "python",
   "name": "python3"
  },
  "language_info": {
   "codemirror_mode": {
    "name": "ipython",
    "version": 3
   },
   "file_extension": ".py",
   "mimetype": "text/x-python",
   "name": "python",
   "nbconvert_exporter": "python",
   "pygments_lexer": "ipython3",
   "version": "3.10.8"
  }
 },
 "nbformat": 4,
 "nbformat_minor": 5
}
