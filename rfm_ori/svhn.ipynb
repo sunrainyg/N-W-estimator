{
 "cells": [
  {
   "cell_type": "code",
   "execution_count": 1,
   "id": "d0380a2f",
   "metadata": {},
   "outputs": [],
   "source": [
    "%load_ext autoreload\n",
    "%autoreload 2"
   ]
  },
  {
   "cell_type": "code",
   "execution_count": 1,
   "id": "778ae8ab",
   "metadata": {},
   "outputs": [],
   "source": [
    "import numpy as np\n",
    "import torch\n",
    "import torchvision\n",
    "import torchvision.transforms as transforms"
   ]
  },
  {
   "cell_type": "code",
   "execution_count": 2,
   "id": "3d805a7b",
   "metadata": {},
   "outputs": [],
   "source": [
    "# set data path\n",
    "def set_data_path():\n",
    "    return \"../data/\"\n",
    "#     raise NotImplementedError"
   ]
  },
  {
   "cell_type": "code",
   "execution_count": 3,
   "id": "9169089d",
   "metadata": {},
   "outputs": [],
   "source": [
    "def pre_process(torchset,n_samples,num_classes=10):\n",
    "    indices = list(np.random.choice(len(torchset),n_samples))\n",
    "\n",
    "    trainset = []\n",
    "    for ix in indices:\n",
    "        x,y = torchset[ix]\n",
    "        ohe_y = torch.zeros(num_classes)\n",
    "        ohe_y[y] = 1\n",
    "        trainset.append(((x/np.linalg.norm(x)).reshape(-1),ohe_y))\n",
    "    return trainset"
   ]
  },
  {
   "cell_type": "code",
   "execution_count": 4,
   "id": "777dbd11",
   "metadata": {},
   "outputs": [
    {
     "name": "stdout",
     "output_type": "stream",
     "text": [
      "Using downloaded and verified file: ../data/train_32x32.mat\n",
      "Using downloaded and verified file: ../data/test_32x32.mat\n"
     ]
    }
   ],
   "source": [
    "# load svhn data\n",
    "transform = transforms.Compose([\n",
    "    transforms.ToTensor()\n",
    "])\n",
    "\n",
    "data_path = set_data_path() ## set this data path\n",
    "\n",
    "trainset0 = torchvision.datasets.SVHN(root=data_path,\n",
    "                                    split = \"train\",\n",
    "                                    transform=transform,\n",
    "                                    download=True)\n",
    "testset0 = torchvision.datasets.SVHN(root=data_path,\n",
    "                                    split = \"test\",\n",
    "                                    transform=transform,\n",
    "                                    download=True)\n",
    "\n",
    "trainset = pre_process(trainset0,n_samples=5000, num_classes=10)\n",
    "train_loader = torch.utils.data.DataLoader(trainset, batch_size=128,\n",
    "                                          shuffle=True, num_workers=2)\n",
    "\n",
    "\n",
    "testset = pre_process(testset0,n_samples=5000, num_classes=10)\n",
    "test_loader = torch.utils.data.DataLoader(testset, batch_size=128,\n",
    "                                         shuffle=False, num_workers=2)\n",
    "\n"
   ]
  },
  {
   "cell_type": "code",
   "execution_count": 5,
   "id": "5e7f0612",
   "metadata": {},
   "outputs": [
    {
     "name": "stdout",
     "output_type": "stream",
     "text": [
      "`eigenpro2` not installed.. using torch.linalg.solve for training kernel model\n"
     ]
    }
   ],
   "source": [
    "# rfm import \n",
    "from rfm import *"
   ]
  },
  {
   "cell_type": "code",
   "execution_count": 6,
   "id": "5218e22f",
   "metadata": {},
   "outputs": [
    {
     "name": "stdout",
     "output_type": "stream",
     "text": [
      "Loaders provided\n",
      "Dataset shape: x_train - torch.Size([5000, 3072]), y_train - torch.Size([5000, 10]), x_test - torch.Size([5000, 3072]), y_test - torch.Size([5000, 10])\n",
      "Round 0, Train Acc: 100.00%\n"
     ]
    },
    {
     "ename": "KeyboardInterrupt",
     "evalue": "",
     "output_type": "error",
     "traceback": [
      "\u001b[0;31m---------------------------------------------------------------------------\u001b[0m",
      "\u001b[0;31mKeyboardInterrupt\u001b[0m                         Traceback (most recent call last)",
      "Cell \u001b[0;32mIn[6], line 3\u001b[0m\n\u001b[1;32m      1\u001b[0m \u001b[39m# run rfm\u001b[39;00m\n\u001b[1;32m      2\u001b[0m rfm \u001b[39m=\u001b[39m LaplaceRFM(bandwidth\u001b[39m=\u001b[39m\u001b[39m1.\u001b[39m)\n\u001b[0;32m----> 3\u001b[0m M, _ \u001b[39m=\u001b[39m rfm\u001b[39m.\u001b[39;49mfit(train_loader, test_loader, iters\u001b[39m=\u001b[39;49m\u001b[39m1\u001b[39;49m, loader\u001b[39m=\u001b[39;49m\u001b[39mTrue\u001b[39;49;00m, classif\u001b[39m=\u001b[39;49m\u001b[39mTrue\u001b[39;49;00m)\n",
      "File \u001b[0;32m~/N-W-estimator/rfm_ori/rfm/recursive_feature_machine.py:118\u001b[0m, in \u001b[0;36mRecursiveFeatureMachine.fit\u001b[0;34m(self, train_loader, test_loader, iters, name, reg, method, train_acc, loader, classif)\u001b[0m\n\u001b[1;32m    116\u001b[0m     train_acc \u001b[39m=\u001b[39m \u001b[39mself\u001b[39m\u001b[39m.\u001b[39mscore(X_train, y_train, metric\u001b[39m=\u001b[39m\u001b[39m'\u001b[39m\u001b[39maccuracy\u001b[39m\u001b[39m'\u001b[39m)\n\u001b[1;32m    117\u001b[0m     \u001b[39mprint\u001b[39m(\u001b[39mf\u001b[39m\u001b[39m\"\u001b[39m\u001b[39mRound \u001b[39m\u001b[39m{\u001b[39;00mi\u001b[39m}\u001b[39;00m\u001b[39m, Train Acc: \u001b[39m\u001b[39m{\u001b[39;00mtrain_acc\u001b[39m:\u001b[39;00m\u001b[39m.2f\u001b[39m\u001b[39m}\u001b[39;00m\u001b[39m%\u001b[39m\u001b[39m\"\u001b[39m)\n\u001b[0;32m--> 118\u001b[0m     test_acc \u001b[39m=\u001b[39m \u001b[39mself\u001b[39;49m\u001b[39m.\u001b[39;49mscore(X_train, y_train, metric\u001b[39m=\u001b[39;49m\u001b[39m'\u001b[39;49m\u001b[39maccuracy\u001b[39;49m\u001b[39m'\u001b[39;49m)\n\u001b[1;32m    119\u001b[0m     \u001b[39mprint\u001b[39m(\u001b[39mf\u001b[39m\u001b[39m\"\u001b[39m\u001b[39mRound \u001b[39m\u001b[39m{\u001b[39;00mi\u001b[39m}\u001b[39;00m\u001b[39m, Test Acc: \u001b[39m\u001b[39m{\u001b[39;00mtest_acc\u001b[39m:\u001b[39;00m\u001b[39m.2f\u001b[39m\u001b[39m}\u001b[39;00m\u001b[39m%\u001b[39m\u001b[39m\"\u001b[39m)\n\u001b[1;32m    121\u001b[0m test_mse \u001b[39m=\u001b[39m \u001b[39mself\u001b[39m\u001b[39m.\u001b[39mscore(X_test, y_test, metric\u001b[39m=\u001b[39m\u001b[39m'\u001b[39m\u001b[39mmse\u001b[39m\u001b[39m'\u001b[39m)\n",
      "File \u001b[0;32m~/N-W-estimator/rfm_ori/rfm/recursive_feature_machine.py:144\u001b[0m, in \u001b[0;36mRecursiveFeatureMachine.score\u001b[0;34m(self, samples, targets, metric)\u001b[0m\n\u001b[1;32m    139\u001b[0m \u001b[39m\u001b[39m\u001b[39m'''\u001b[39;00m\n\u001b[1;32m    140\u001b[0m \u001b[39mFunction: calculate the score\u001b[39;00m\n\u001b[1;32m    141\u001b[0m \u001b[39m'''\u001b[39;00m\n\u001b[1;32m    143\u001b[0m \u001b[39m##\u001b[39;00m\n\u001b[0;32m--> 144\u001b[0m preds \u001b[39m=\u001b[39m \u001b[39mself\u001b[39;49m\u001b[39m.\u001b[39;49mpredict(samples)\n\u001b[1;32m    145\u001b[0m \u001b[39mif\u001b[39;00m metric\u001b[39m==\u001b[39m\u001b[39m'\u001b[39m\u001b[39maccuracy\u001b[39m\u001b[39m'\u001b[39m:\n\u001b[1;32m    146\u001b[0m     \u001b[39mreturn\u001b[39;00m (\u001b[39m1.\u001b[39m\u001b[39m*\u001b[39m(targets\u001b[39m.\u001b[39margmax(\u001b[39m-\u001b[39m\u001b[39m1\u001b[39m) \u001b[39m==\u001b[39m preds\u001b[39m.\u001b[39margmax(\u001b[39m-\u001b[39m\u001b[39m1\u001b[39m)))\u001b[39m.\u001b[39mmean()\u001b[39m*\u001b[39m\u001b[39m100.\u001b[39m\n",
      "File \u001b[0;32m~/N-W-estimator/rfm_ori/rfm/recursive_feature_machine.py:83\u001b[0m, in \u001b[0;36mRecursiveFeatureMachine.predict\u001b[0;34m(self, samples)\u001b[0m\n\u001b[1;32m     77\u001b[0m \u001b[39mdef\u001b[39;00m \u001b[39mpredict\u001b[39m(\u001b[39mself\u001b[39m, samples):\n\u001b[1;32m     78\u001b[0m \u001b[39m    \u001b[39m\u001b[39m'''\u001b[39;00m\n\u001b[1;32m     79\u001b[0m \u001b[39m    Function: predict\u001b[39;00m\n\u001b[1;32m     80\u001b[0m \u001b[39m    Detail:\u001b[39;00m\n\u001b[1;32m     81\u001b[0m \u001b[39m    [self.kernel : (laplacian_M, input: x, z)] @ self.weights\u001b[39;00m\n\u001b[1;32m     82\u001b[0m \u001b[39m    '''\u001b[39;00m\n\u001b[0;32m---> 83\u001b[0m     \u001b[39mreturn\u001b[39;00m \u001b[39mself\u001b[39;49m\u001b[39m.\u001b[39;49mkernel(samples, \u001b[39mself\u001b[39;49m\u001b[39m.\u001b[39;49mcenters) \u001b[39m@\u001b[39m \u001b[39mself\u001b[39m\u001b[39m.\u001b[39mweights\n",
      "File \u001b[0;32m~/N-W-estimator/rfm_ori/rfm/recursive_feature_machine.py:156\u001b[0m, in \u001b[0;36mLaplaceRFM.__init__.<locals>.<lambda>\u001b[0;34m(x, z)\u001b[0m\n\u001b[1;32m    154\u001b[0m \u001b[39msuper\u001b[39m()\u001b[39m.\u001b[39m\u001b[39m__init__\u001b[39m(\u001b[39m*\u001b[39m\u001b[39m*\u001b[39mkwargs)\n\u001b[1;32m    155\u001b[0m \u001b[39mself\u001b[39m\u001b[39m.\u001b[39mbandwidth \u001b[39m=\u001b[39m bandwidth\n\u001b[0;32m--> 156\u001b[0m \u001b[39mself\u001b[39m\u001b[39m.\u001b[39mkernel \u001b[39m=\u001b[39m \u001b[39mlambda\u001b[39;00m x, z: laplacian_M(x, z, \u001b[39mself\u001b[39;49m\u001b[39m.\u001b[39;49mM, \u001b[39mself\u001b[39;49m\u001b[39m.\u001b[39;49mbandwidth)\n",
      "File \u001b[0;32m~/N-W-estimator/rfm_ori/rfm/kernels.py:91\u001b[0m, in \u001b[0;36mlaplacian_M\u001b[0;34m(samples, centers, M, bandwidth)\u001b[0m\n\u001b[1;32m     86\u001b[0m \u001b[39m\u001b[39m\u001b[39m'''\u001b[39;00m\n\u001b[1;32m     87\u001b[0m \u001b[39mEquation: exp(\\gamma * (x-xi)M(x-xi)^T)\u001b[39;00m\n\u001b[1;32m     88\u001b[0m \u001b[39m'''\u001b[39;00m\n\u001b[1;32m     90\u001b[0m \u001b[39massert\u001b[39;00m bandwidth \u001b[39m>\u001b[39m \u001b[39m0\u001b[39m\n\u001b[0;32m---> 91\u001b[0m kernel_mat \u001b[39m=\u001b[39m euclidean_distances_M(samples, centers, M, squared\u001b[39m=\u001b[39;49m\u001b[39mFalse\u001b[39;49;00m)\n\u001b[1;32m     92\u001b[0m kernel_mat\u001b[39m.\u001b[39mclamp_(\u001b[39mmin\u001b[39m\u001b[39m=\u001b[39m\u001b[39m0\u001b[39m) \u001b[39m# Guaranteed non-negative\u001b[39;00m\n\u001b[1;32m     93\u001b[0m gamma \u001b[39m=\u001b[39m \u001b[39m1.\u001b[39m \u001b[39m/\u001b[39m bandwidth\n",
      "File \u001b[0;32m~/N-W-estimator/rfm_ori/rfm/kernels.py:37\u001b[0m, in \u001b[0;36meuclidean_distances_M\u001b[0;34m(samples, centers, M, squared)\u001b[0m\n\u001b[1;32m     34\u001b[0m \u001b[39melse\u001b[39;00m:\n\u001b[1;32m     35\u001b[0m     centers_norm2 \u001b[39m=\u001b[39m ((centers \u001b[39m@\u001b[39m M) \u001b[39m*\u001b[39m centers)\u001b[39m.\u001b[39msum(\u001b[39m-\u001b[39m\u001b[39m1\u001b[39m)\n\u001b[0;32m---> 37\u001b[0m distances \u001b[39m=\u001b[39m \u001b[39m-\u001b[39;49m\u001b[39m2\u001b[39;49m \u001b[39m*\u001b[39;49m (samples \u001b[39m@\u001b[39;49m M) \u001b[39m@\u001b[39;49m centers\u001b[39m.\u001b[39;49mT\n\u001b[1;32m     38\u001b[0m distances\u001b[39m.\u001b[39madd_(samples_norm2\u001b[39m.\u001b[39mview(\u001b[39m-\u001b[39m\u001b[39m1\u001b[39m, \u001b[39m1\u001b[39m))\n\u001b[1;32m     39\u001b[0m distances\u001b[39m.\u001b[39madd_(centers_norm2)\n",
      "\u001b[0;31mKeyboardInterrupt\u001b[0m: "
     ]
    }
   ],
   "source": [
    "# run rfm\n",
    "rfm = LaplaceRFM(bandwidth=1.)\n",
    "M, _ = rfm.fit(train_loader, test_loader, iters=1, loader=True, classif=True)"
   ]
  },
  {
   "cell_type": "markdown",
   "id": "ae02aed4",
   "metadata": {},
   "source": [
    "We have run three steps of RFM (the first iterate is the original laplace kernel), returning the M matrix of the final iterate."
   ]
  },
  {
   "cell_type": "code",
   "execution_count": 16,
   "id": "7a730cd9",
   "metadata": {},
   "outputs": [
    {
     "name": "stdout",
     "output_type": "stream",
     "text": [
      "`eigenpro2` not installed.. using torch.linalg.solve for training kernel model\n"
     ]
    }
   ],
   "source": [
    "# visualize M matrix\n",
    "import matplotlib.pyplot as plt\n",
    "%matplotlib inline"
   ]
  },
  {
   "cell_type": "code",
   "execution_count": 17,
   "id": "66b0f905",
   "metadata": {},
   "outputs": [
    {
     "name": "stdout",
     "output_type": "stream",
     "text": [
      "\n"
     ]
    },
    {
     "data": {
      "image/png": "[encoded data removed]",
      "text/plain": [
       "<Figure size 1000x300 with 3 Axes>"
      ]
     },
     "metadata": {},
     "output_type": "display_data"
    }
   ],
   "source": [
    "f, axarr = plt.subplots(1,2,figsize=(10, 3))\n",
    "axarr[0].axes.xaxis.set_ticklabels([])\n",
    "axarr[0].axes.yaxis.set_ticklabels([])\n",
    "axarr[1].axes.xaxis.set_ticklabels([])\n",
    "axarr[1].axes.yaxis.set_ticklabels([])\n",
    "\n",
    "pcm = axarr[0].imshow(np.mean(np.diag(M).reshape(3,32,32),axis=0),cmap='cividis')\n",
    "axarr[0].set_title(\"M matrix diagonal\")\n",
    "f.colorbar(mappable=pcm, ax=axarr[0], shrink=0.8,location=\"left\")\n",
    "axarr[1].imshow(torch.moveaxis(trainset0[3][0],0,2))\n",
    "axarr[1].set_title(\"Sample Image\")\n",
    "print()"
   ]
  },
  {
   "cell_type": "markdown",
   "id": "1b8bb8a2",
   "metadata": {},
   "source": [
    "Here we plot the diagonal (averaged across channels) of the M matrix to see which coordinates are being highlighted by RFM. The center of the image is highlighted (where the digits appear). "
   ]
  },
  {
   "cell_type": "code",
   "execution_count": null,
   "id": "451d553b",
   "metadata": {},
   "outputs": [],
   "source": []
  }
 ],
 "metadata": {
  "kernelspec": {
   "display_name": "Python 3 (ipykernel)",
   "language": "python",
   "name": "python3"
  },
  "language_info": {
   "codemirror_mode": {
    "name": "ipython",
    "version": 3
   },
   "file_extension": ".py",
   "mimetype": "text/x-python",
   "name": "python",
   "nbconvert_exporter": "python",
   "pygments_lexer": "ipython3",
   "version": "3.8.17"
  }
 },
 "nbformat": 4,
 "nbformat_minor": 5
}
